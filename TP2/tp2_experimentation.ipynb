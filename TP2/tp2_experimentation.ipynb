{
 "cells": [
  {
   "cell_type": "code",
   "execution_count": 8,
   "id": "2874b537",
   "metadata": {},
   "outputs": [],
   "source": [
    "import numpy as np\n",
    "import pandas as pd\n",
    "%matplotlib inline\n",
    "import matplotlib.pyplot as plt\n",
    "import keras\n",
    "import h5py\n",
    "import PIL\n",
    "import seaborn as sns\n",
    "import plotly\n",
    "import sklearn_pandas\n",
    "from IPython.display import Image\n",
    "from IPython.core.display import HTML \n",
    "from sklearn.preprocessing import MinMaxScaler"
   ]
  },
  {
   "cell_type": "code",
   "execution_count": 9,
   "id": "2d612345",
   "metadata": {},
   "outputs": [],
   "source": [
    "# Esta celda lo que hace es obtener el dataset que se encuentra en el repositorio, utilizando un path relativo\n",
    "path = '..//TP2//Seasons_Stats.csv'\n",
    "data = pd.read_csv(path)"
   ]
  },
  {
   "cell_type": "code",
   "execution_count": 10,
   "id": "d8627164",
   "metadata": {},
   "outputs": [],
   "source": [
    "# Con esta celda buscamos reducir la cantidad de columnas que posee el dataset, eliminando las columnas que pensamos no son necesarias para realizar la predicción.\n",
    "columns = ['blanl','blank2', 'Tm']\n",
    "data = data.drop(columns, axis=1)"
   ]
  },
  {
   "cell_type": "code",
   "execution_count": 11,
   "id": "65ee8fa3",
   "metadata": {},
   "outputs": [],
   "source": [
    "# Eliminamos todas las filas de datos que sean anteriores al año 1980. Elegimos este año ya que a partir de aquí se comienzan a tener en cuenta estadísticas como, por ejemplo, los tiros de 3 puntos.\n",
    "# Esto lo hacemos ya que, antes de ese año, el dataset poseía muchas estadísticas que todavía no se tenian en cuenta y había muchos valores en NaN\n",
    "data = data.drop(data[data.Year < 1980].index, axis=0)\n",
    "# Además, eliminamos todos los datos en NaN para evitar inconsistencias en el dataset.\n",
    "#data = data.dropna()\n",
    "\n",
    "#Con esta linea mostramos todas las columnas del dataset\n",
    "pd.set_option('display.max_columns', 100)"
   ]
  },
  {
   "cell_type": "code",
   "execution_count": 12,
   "id": "07b3e84d",
   "metadata": {},
   "outputs": [],
   "source": [
    "df = pd.DataFrame(data)"
   ]
  },
  {
   "cell_type": "code",
   "execution_count": 13,
   "id": "9e10ca8b",
   "metadata": {},
   "outputs": [],
   "source": [
    "df[['3P%','FT%', '2P%', '3PAr', 'FTr', 'FG%', 'eFG%', 'TS%', 'TOV%']] = df[['3P%','FT%', '2P%', '3PAr', 'FTr', 'FG%', 'eFG%', 'TS%', 'TOV%']].fillna(0)"
   ]
  },
  {
   "cell_type": "code",
   "execution_count": 14,
   "id": "7dfaa86a",
   "metadata": {},
   "outputs": [],
   "source": [
    "# Este celda elimina los años que figuran mas de una vez para un mismo jugador.\n",
    "\n",
    "df = df.drop_duplicates(subset=['Player','Year'])"
   ]
  },
  {
   "cell_type": "code",
   "execution_count": 15,
   "id": "801ebce2",
   "metadata": {},
   "outputs": [],
   "source": [
    "# Esta celda renombra la primer columna del dataFrame (denominada 'Unnamed: 0') y le setea el nombre de \"id\"\n",
    "df = df.rename(columns = {'Unnamed: 0' : 'id'})"
   ]
  },
  {
   "cell_type": "code",
   "execution_count": 16,
   "id": "7cf84987",
   "metadata": {},
   "outputs": [],
   "source": [
    "# Con esta celda, creamos la que será nuestra columna TARGET y la llamamos \"morePoints\" (\"Mas Puntos\")\n",
    "# Dicha columna podrá tener solo dos valores \"Yes\"/\"No\" dependiendo si el jugador hizo mas puntos que la temporada anterior\n",
    "# Cabe recalcar que si es la 1er temporada del jugador o si una temporada no jugo por algun motivo, se colocará en \"Yes\" ya que consideramos que al no haber jugado efectivamente realizó mas puntos.\n",
    "df.insert(18, 'morePoints', 'No', allow_duplicates = True)"
   ]
  },
  {
   "cell_type": "code",
   "execution_count": 17,
   "id": "752a4d39",
   "metadata": {},
   "outputs": [],
   "source": [
    "# Esta es una funcion que realizamos para setear la columna \"morePoints\"\n",
    "# Buscamos el año anterior y comparamos los puntos que realizó en ese año y el año actual.\n",
    "# Si efectivamente hizo mas puntos no hacemos nada, pero si no seteamos la columna en \"No\"\n",
    "def funcionSetMorePoints(id):\n",
    "    auxiliar = df.loc[id]\n",
    "    temporadaSiguiente = df.loc[(df.Player == auxiliar.Player) & (df.Year == auxiliar.Year  + 1)]      \n",
    "    if ((not temporadaSiguiente.empty) and (auxiliar.PTS <= temporadaSiguiente.PTS.item())):\n",
    "        df.loc[df.id == id,'morePoints'] = 'Yes'\n",
    "    else:\n",
    "        if temporadaSiguiente.empty:\n",
    "            df.loc[df.id == id,'morePoints'] = 'None'\n",
    "    return id"
   ]
  },
  {
   "cell_type": "code",
   "execution_count": 18,
   "id": "64a47d9a",
   "metadata": {},
   "outputs": [],
   "source": [
    "# Llamamos a la funcion defenida anteriormente\n",
    "df.id = df.id.apply(funcionSetMorePoints)"
   ]
  },
  {
   "cell_type": "code",
   "execution_count": null,
   "id": "ebd4bec3",
   "metadata": {},
   "outputs": [],
   "source": [
    "df = df[df['morePoints'] != 'None']\n",
    "display(df)"
   ]
  },
  {
   "cell_type": "markdown",
   "id": "1013396d",
   "metadata": {},
   "source": [
    "# TP N° 2 - Experimentación"
   ]
  },
  {
   "cell_type": "markdown",
   "id": "0a2c517f",
   "metadata": {},
   "source": [
    "## Métrica a utilizar"
   ]
  },
  {
   "cell_type": "markdown",
   "id": "4a5e4a4d",
   "metadata": {},
   "source": [
    "Accuracy? <br>\n",
    "Problemas de Accuracy:<br>\n",
    "•\tDesbalances en la data (dos clases de diferente crucialidad o peso son ponderadas de la misma forma).<br>\n",
    "•\tSi erra por sí o por no, tiene diferente impacto. Es mejor cuando erra algo que resulta positivo, por ejemplo, que prediga que hay cáncer cuando en realidad no lo había.\n",
    "\n",
    "**No tenemos ninguno de estos dos problemas, para mi podría ser Accuracy ANASHEEEIIII.**"
   ]
  },
  {
   "cell_type": "markdown",
   "id": "0817ad15",
   "metadata": {},
   "source": [
    "## Técnica de feature engineering"
   ]
  },
  {
   "cell_type": "markdown",
   "id": "64f178c7",
   "metadata": {},
   "source": [
    "???? No tengo idea xd. \n",
    "\n",
    "Podría ser Binning (para achicar los decimales)."
   ]
  },
  {
   "cell_type": "code",
   "execution_count": null,
   "id": "56d09930",
   "metadata": {},
   "outputs": [],
   "source": []
  }
 ],
 "metadata": {
  "kernelspec": {
   "display_name": "Python 3",
   "language": "python",
   "name": "python3"
  },
  "language_info": {
   "codemirror_mode": {
    "name": "ipython",
    "version": 3
   },
   "file_extension": ".py",
   "mimetype": "text/x-python",
   "name": "python",
   "nbconvert_exporter": "python",
   "pygments_lexer": "ipython3",
   "version": "3.8.5"
  }
 },
 "nbformat": 4,
 "nbformat_minor": 5
}
